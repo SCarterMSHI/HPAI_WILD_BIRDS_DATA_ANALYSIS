{
 "cells": [
  {
   "cell_type": "markdown",
   "metadata": {},
   "source": [
    "## Automated CSV Download\n",
    "\n",
    "This will retrieve the most recent `hpai-wild-birds.csv` file directly from the USDA server. The url was found using the browser's inspect element feature which provides the backend download link."
   ]
  },
  {
   "cell_type": "code",
   "execution_count": 1,
   "metadata": {},
   "outputs": [],
   "source": [
    "# Automate download of USDA HPAI Wild Birds csv\n",
    "\n",
    "import pandas as pd\n",
    "import requests # goes to website to get something Ex. download a file\n",
    "from io import StringIO # turns text from website into a file pandas can read"
   ]
  },
  {
   "cell_type": "code",
   "execution_count": 2,
   "metadata": {},
   "outputs": [],
   "source": [
    "# Found csv url using the browser's inspect element tool\n",
    "\n",
    "csv_url = \"https://www.aphis.usda.gov/sites/default/files/hpai-wild-birds.csv\""
   ]
  },
  {
   "cell_type": "code",
   "execution_count": 5,
   "metadata": {},
   "outputs": [
    {
     "name": "stdout",
     "output_type": "stream",
     "text": [
      "CSV successfully loaded from USDA website\n"
     ]
    },
    {
     "data": {
      "text/html": [
       "<div>\n",
       "<style scoped>\n",
       "    .dataframe tbody tr th:only-of-type {\n",
       "        vertical-align: middle;\n",
       "    }\n",
       "\n",
       "    .dataframe tbody tr th {\n",
       "        vertical-align: top;\n",
       "    }\n",
       "\n",
       "    .dataframe thead th {\n",
       "        text-align: right;\n",
       "    }\n",
       "</style>\n",
       "<table border=\"1\" class=\"dataframe\">\n",
       "  <thead>\n",
       "    <tr style=\"text-align: right;\">\n",
       "      <th></th>\n",
       "      <th>State</th>\n",
       "      <th>County</th>\n",
       "      <th>Collection Date</th>\n",
       "      <th>Date Detected</th>\n",
       "      <th>HPAI Strain</th>\n",
       "      <th>Bird Species</th>\n",
       "      <th>WOAH Classification</th>\n",
       "      <th>Sampling Method</th>\n",
       "      <th>Submitting Agency</th>\n",
       "    </tr>\n",
       "  </thead>\n",
       "  <tbody>\n",
       "    <tr>\n",
       "      <th>0</th>\n",
       "      <td>South Carolina</td>\n",
       "      <td>Colleton</td>\n",
       "      <td>12/30/2021</td>\n",
       "      <td>1/13/2022</td>\n",
       "      <td>EA H5N1</td>\n",
       "      <td>American wigeon</td>\n",
       "      <td>Wild bird</td>\n",
       "      <td>Hunter harvest</td>\n",
       "      <td>NWDP</td>\n",
       "    </tr>\n",
       "    <tr>\n",
       "      <th>1</th>\n",
       "      <td>South Carolina</td>\n",
       "      <td>Colleton</td>\n",
       "      <td>12/30/2021</td>\n",
       "      <td>1/13/2022</td>\n",
       "      <td>EA H5N1</td>\n",
       "      <td>Blue-winged teal</td>\n",
       "      <td>Wild bird</td>\n",
       "      <td>Hunter harvest</td>\n",
       "      <td>NWDP</td>\n",
       "    </tr>\n",
       "    <tr>\n",
       "      <th>2</th>\n",
       "      <td>North Carolina</td>\n",
       "      <td>Hyde</td>\n",
       "      <td>12/30/2021</td>\n",
       "      <td>1/12/2022</td>\n",
       "      <td>EA H5N1</td>\n",
       "      <td>Northern shoveler</td>\n",
       "      <td>Wild bird</td>\n",
       "      <td>Hunter harvest</td>\n",
       "      <td>NWDP</td>\n",
       "    </tr>\n",
       "    <tr>\n",
       "      <th>3</th>\n",
       "      <td>North Carolina</td>\n",
       "      <td>Hyde</td>\n",
       "      <td>1/8/2022</td>\n",
       "      <td>1/20/2022</td>\n",
       "      <td>EA H5N1</td>\n",
       "      <td>American wigeon</td>\n",
       "      <td>Wild bird</td>\n",
       "      <td>Hunter harvest</td>\n",
       "      <td>NWDP</td>\n",
       "    </tr>\n",
       "    <tr>\n",
       "      <th>4</th>\n",
       "      <td>North Carolina</td>\n",
       "      <td>Hyde</td>\n",
       "      <td>1/8/2022</td>\n",
       "      <td>1/20/2022</td>\n",
       "      <td>EA H5</td>\n",
       "      <td>Gadwall</td>\n",
       "      <td>Wild bird</td>\n",
       "      <td>Hunter harvest</td>\n",
       "      <td>NWDP</td>\n",
       "    </tr>\n",
       "  </tbody>\n",
       "</table>\n",
       "</div>"
      ],
      "text/plain": [
       "            State    County Collection Date Date Detected HPAI Strain  \\\n",
       "0  South Carolina  Colleton      12/30/2021     1/13/2022     EA H5N1   \n",
       "1  South Carolina  Colleton      12/30/2021     1/13/2022     EA H5N1   \n",
       "2  North Carolina      Hyde      12/30/2021     1/12/2022     EA H5N1   \n",
       "3  North Carolina      Hyde        1/8/2022     1/20/2022     EA H5N1   \n",
       "4  North Carolina      Hyde        1/8/2022     1/20/2022       EA H5   \n",
       "\n",
       "        Bird Species WOAH Classification Sampling Method Submitting Agency  \n",
       "0    American wigeon           Wild bird  Hunter harvest              NWDP  \n",
       "1   Blue-winged teal           Wild bird  Hunter harvest              NWDP  \n",
       "2  Northern shoveler           Wild bird  Hunter harvest              NWDP  \n",
       "3    American wigeon           Wild bird  Hunter harvest              NWDP  \n",
       "4            Gadwall           Wild bird  Hunter harvest              NWDP  "
      ]
     },
     "metadata": {},
     "output_type": "display_data"
    }
   ],
   "source": [
    "try:\n",
    "    download = requests.get(csv_url) # Asks website for file\n",
    "    download.raise_for_status()  # Show error if download is not successful\n",
    "    flu_data = pd.read_csv(StringIO(download.text)) # Load the CSV as a table\n",
    "    print(\"CSV successfully loaded from USDA website\")\n",
    "    display(flu_data.head())\n",
    "except Exception as e: # Will catch problem if something goes wrong\n",
    "    print(f\"Failed to load csv from url: {e}\")"
   ]
  }
 ],
 "metadata": {
  "kernelspec": {
   "display_name": "Python 3",
   "language": "python",
   "name": "python3"
  },
  "language_info": {
   "codemirror_mode": {
    "name": "ipython",
    "version": 3
   },
   "file_extension": ".py",
   "mimetype": "text/x-python",
   "name": "python",
   "nbconvert_exporter": "python",
   "pygments_lexer": "ipython3",
   "version": "3.11.5"
  }
 },
 "nbformat": 4,
 "nbformat_minor": 2
}
