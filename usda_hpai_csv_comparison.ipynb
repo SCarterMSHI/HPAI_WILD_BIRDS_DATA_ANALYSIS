{
 "cells": [
  {
   "cell_type": "markdown",
   "metadata": {},
   "source": [
    "# HPAI Wild Birds CSV Comparison\n",
    "\n",
    "This notebook compares the manually downloaded HPAI wild birds csv from the USDA site with the version obtained using the browser inspect element tool:\n",
    "\n",
    "**Direct URL:**  \n",
    "[https://www.aphis.usda.gov/sites/default/files/hpai-wild-birds.csv](https://www.aphis.usda.gov/sites/default/files/hpai-wild-birds.csv)\n",
    "\n",
    "---\n",
    "\n",
    "### Objectives\n",
    "\n",
    "- Determine if the manually downloaded file and the automatically retrieved file are identical\n",
    "- Assess whether the automated version (using the direct URL) is reliable enough to be used in future data exploration, removing the need for manual downloading."
   ]
  },
  {
   "cell_type": "code",
   "execution_count": 2,
   "metadata": {},
   "outputs": [],
   "source": [
    "import pandas as pd\n",
    "import requests\n",
    "from io import StringIO\n"
   ]
  },
  {
   "cell_type": "code",
   "execution_count": 4,
   "metadata": {},
   "outputs": [
    {
     "name": "stdout",
     "output_type": "stream",
     "text": [
      "Successfully loaded csv from url.\n"
     ]
    }
   ],
   "source": [
    "# Load csv from the direct USDA link (Automated Download)\n",
    "url = \"https://www.aphis.usda.gov/sites/default/files/hpai-wild-birds.csv\"\n",
    "download = requests.get(url)\n",
    "\n",
    "try:\n",
    "    download = requests.get(url) \n",
    "    download.raise_for_status()\n",
    "    csv_online = pd.read_csv(StringIO(download.text))\n",
    "    print(\"Successfully loaded csv from url.\")\n",
    "    csv_online.head()\n",
    "except Exception as e:\n",
    "    print(f\" Failed to load CSV from URL: {e}\")\n",
    "    csv_online = None"
   ]
  },
  {
   "cell_type": "code",
   "execution_count": 12,
   "metadata": {},
   "outputs": [
    {
     "name": "stdout",
     "output_type": "stream",
     "text": [
      "Successfully loaded manually downloaded csv.\n"
     ]
    }
   ],
   "source": [
    "# Load manually downloaded CSV \n",
    "manual_csv_path = \"C:/Users/hxa6/OneDrive - CDC/Repos/hpai_wild_birds_data_analysis/usda_wild_bird_avian_influenza_detections.csv\"\n",
    "csv_manual = pd.read_csv(manual_csv_path)\n",
    "print(\"Successfully loaded manually downloaded csv.\")"
   ]
  },
  {
   "cell_type": "code",
   "execution_count": 13,
   "metadata": {},
   "outputs": [
    {
     "data": {
      "text/html": [
       "<div>\n",
       "<style scoped>\n",
       "    .dataframe tbody tr th:only-of-type {\n",
       "        vertical-align: middle;\n",
       "    }\n",
       "\n",
       "    .dataframe tbody tr th {\n",
       "        vertical-align: top;\n",
       "    }\n",
       "\n",
       "    .dataframe thead th {\n",
       "        text-align: right;\n",
       "    }\n",
       "</style>\n",
       "<table border=\"1\" class=\"dataframe\">\n",
       "  <thead>\n",
       "    <tr style=\"text-align: right;\">\n",
       "      <th></th>\n",
       "      <th>State</th>\n",
       "      <th>County</th>\n",
       "      <th>Collection Date</th>\n",
       "      <th>Date Detected</th>\n",
       "      <th>HPAI Strain</th>\n",
       "      <th>Bird Species</th>\n",
       "      <th>WOAH Classification</th>\n",
       "      <th>Sampling Method</th>\n",
       "      <th>Submitting Agency</th>\n",
       "    </tr>\n",
       "  </thead>\n",
       "  <tbody>\n",
       "    <tr>\n",
       "      <th>0</th>\n",
       "      <td>West Virginia</td>\n",
       "      <td>Monongalia</td>\n",
       "      <td>2/18/2025</td>\n",
       "      <td>2/27/2025</td>\n",
       "      <td>EA H5N1</td>\n",
       "      <td>Canada goose</td>\n",
       "      <td>Wild bird</td>\n",
       "      <td>Morbidity/Mortality</td>\n",
       "      <td>NWDP</td>\n",
       "    </tr>\n",
       "    <tr>\n",
       "      <th>1</th>\n",
       "      <td>West Virginia</td>\n",
       "      <td>Monongalia</td>\n",
       "      <td>2/18/2025</td>\n",
       "      <td>2/27/2025</td>\n",
       "      <td>EA H5N1</td>\n",
       "      <td>Canada goose</td>\n",
       "      <td>Wild bird</td>\n",
       "      <td>Morbidity/Mortality</td>\n",
       "      <td>NWDP</td>\n",
       "    </tr>\n",
       "    <tr>\n",
       "      <th>2</th>\n",
       "      <td>Massachusetts</td>\n",
       "      <td>Worcester</td>\n",
       "      <td>2/18/2025</td>\n",
       "      <td>2/27/2025</td>\n",
       "      <td>EA H5</td>\n",
       "      <td>Mallard</td>\n",
       "      <td>Wild bird</td>\n",
       "      <td>Live bird</td>\n",
       "      <td>NWDP</td>\n",
       "    </tr>\n",
       "    <tr>\n",
       "      <th>3</th>\n",
       "      <td>Texas</td>\n",
       "      <td>Bexar</td>\n",
       "      <td>2/13/2025</td>\n",
       "      <td>2/27/2025</td>\n",
       "      <td>EA H5</td>\n",
       "      <td>Black vulture</td>\n",
       "      <td>Wild bird</td>\n",
       "      <td>Morbidity/Mortality</td>\n",
       "      <td>NWDP</td>\n",
       "    </tr>\n",
       "    <tr>\n",
       "      <th>4</th>\n",
       "      <td>Texas</td>\n",
       "      <td>Bexar</td>\n",
       "      <td>2/13/2025</td>\n",
       "      <td>2/27/2025</td>\n",
       "      <td>EA H5</td>\n",
       "      <td>Black vulture</td>\n",
       "      <td>Wild bird</td>\n",
       "      <td>Morbidity/Mortality</td>\n",
       "      <td>NWDP</td>\n",
       "    </tr>\n",
       "  </tbody>\n",
       "</table>\n",
       "</div>"
      ],
      "text/plain": [
       "           State      County Collection Date Date Detected HPAI Strain  \\\n",
       "0  West Virginia  Monongalia       2/18/2025     2/27/2025     EA H5N1   \n",
       "1  West Virginia  Monongalia       2/18/2025     2/27/2025     EA H5N1   \n",
       "2  Massachusetts   Worcester       2/18/2025     2/27/2025       EA H5   \n",
       "3          Texas       Bexar       2/13/2025     2/27/2025       EA H5   \n",
       "4          Texas       Bexar       2/13/2025     2/27/2025       EA H5   \n",
       "\n",
       "    Bird Species WOAH Classification      Sampling Method Submitting Agency  \n",
       "0   Canada goose           Wild bird  Morbidity/Mortality              NWDP  \n",
       "1   Canada goose           Wild bird  Morbidity/Mortality              NWDP  \n",
       "2        Mallard           Wild bird            Live bird              NWDP  \n",
       "3  Black vulture           Wild bird  Morbidity/Mortality              NWDP  \n",
       "4  Black vulture           Wild bird  Morbidity/Mortality              NWDP  "
      ]
     },
     "execution_count": 13,
     "metadata": {},
     "output_type": "execute_result"
    }
   ],
   "source": [
    "csv_manual.head()"
   ]
  },
  {
   "cell_type": "code",
   "execution_count": 24,
   "metadata": {},
   "outputs": [
    {
     "name": "stdout",
     "output_type": "stream",
     "text": [
      "Manual csv shape: (12524, 9)\n",
      "Online csv shape: (13225, 9)\n",
      "The csv files are DIFFERENT.\n",
      "Something went wrong while checking the differences: Can only compare identically-labeled (both index and columns) DataFrame objects\n"
     ]
    }
   ],
   "source": [
    "# Compare manual and online CSVs\n",
    "if csv_online is not None:\n",
    "    print(\"Manual csv shape:\", csv_manual.shape)\n",
    "    print(\"Online csv shape:\", csv_online.shape)\n",
    "\n",
    "    if csv_manual.equals(csv_online):\n",
    "        print(\"The csv files are IDENTICAL.\")\n",
    "    else:\n",
    "        print(\"The csv files are DIFFERENT.\")\n",
    "        try:\n",
    "            differences = csv_manual.compare(csv_online)\n",
    "            display(differences.head())\n",
    "        except Exception as e:\n",
    "            print(f\"Something went wrong while checking the differences: {e}\")\n",
    "else:\n",
    "    print(\"Comparison skipped due to failed online csv load.\")"
   ]
  }
 ],
 "metadata": {
  "kernelspec": {
   "display_name": "Python 3",
   "language": "python",
   "name": "python3"
  },
  "language_info": {
   "codemirror_mode": {
    "name": "ipython",
    "version": 3
   },
   "file_extension": ".py",
   "mimetype": "text/x-python",
   "name": "python",
   "nbconvert_exporter": "python",
   "pygments_lexer": "ipython3",
   "version": "3.11.5"
  }
 },
 "nbformat": 4,
 "nbformat_minor": 2
}
